{
 "cells": [
  {
   "cell_type": "code",
   "id": "initial_id",
   "metadata": {
    "collapsed": true,
    "ExecuteTime": {
     "end_time": "2024-05-23T20:33:16.425639Z",
     "start_time": "2024-05-23T20:33:15.940614Z"
    }
   },
   "source": [
    "import pandas as pd\n",
    "import numpy as np"
   ],
   "outputs": [],
   "execution_count": 1
  },
  {
   "metadata": {
    "ExecuteTime": {
     "end_time": "2024-05-23T20:47:59.531935Z",
     "start_time": "2024-05-23T20:47:59.509101Z"
    }
   },
   "cell_type": "code",
   "source": [
    "paris_listing = pd.read_csv('paris_airbnb.csv')\n",
    "paris_listing['price'] = paris_listing['price'].apply(lambda x: x.replace('$', '').replace(',', '')).astype(float)\n",
    "np.random.seed(1)\n",
    "paris_listing = paris_listing.loc[np.random.permutation(len(paris_listing))]"
   ],
   "id": "ccc273f492e5e3a7",
   "outputs": [],
   "execution_count": 28
  },
  {
   "metadata": {
    "ExecuteTime": {
     "end_time": "2024-05-23T20:48:00.289921Z",
     "start_time": "2024-05-23T20:48:00.283450Z"
    }
   },
   "cell_type": "code",
   "source": [
    "def predict(accommodates: int):\n",
    "    temp_df = paris_listing.copy()\n",
    "    #calcul de la distance\n",
    "    temp_df['distance'] = temp_df['accommodates'].apply(lambda x: np.abs(x - accommodates))\n",
    "    temp_df = temp_df.sort_values('distance')\n",
    "    return temp_df.head()['price'].mean()"
   ],
   "id": "e45c16f178791c1d",
   "outputs": [],
   "execution_count": 29
  },
  {
   "metadata": {
    "ExecuteTime": {
     "end_time": "2024-05-23T20:48:00.746502Z",
     "start_time": "2024-05-23T20:48:00.687645Z"
    }
   },
   "cell_type": "code",
   "source": [
    "acc1 = predict(1)\n",
    "acc2 = predict(2)\n",
    "acc4 = predict(4)\n",
    "\n",
    "print(acc1)\n",
    "print(acc2)\n",
    "print(acc4)"
   ],
   "id": "72cc64c01fec6c2f",
   "outputs": [
    {
     "name": "stdout",
     "output_type": "stream",
     "text": [
      "69.6\n",
      "105.4\n",
      "104.6\n"
     ]
    }
   ],
   "execution_count": 30
  },
  {
   "metadata": {},
   "cell_type": "code",
   "outputs": [],
   "execution_count": null,
   "source": "",
   "id": "1642c627ddda63b0"
  }
 ],
 "metadata": {
  "kernelspec": {
   "display_name": "Python 3",
   "language": "python",
   "name": "python3"
  },
  "language_info": {
   "codemirror_mode": {
    "name": "ipython",
    "version": 2
   },
   "file_extension": ".py",
   "mimetype": "text/x-python",
   "name": "python",
   "nbconvert_exporter": "python",
   "pygments_lexer": "ipython2",
   "version": "2.7.6"
  }
 },
 "nbformat": 4,
 "nbformat_minor": 5
}
