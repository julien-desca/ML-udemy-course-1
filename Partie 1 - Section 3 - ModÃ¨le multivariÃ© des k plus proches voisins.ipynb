{
 "cells": [
  {
   "cell_type": "markdown",
   "metadata": {},
   "source": [
    "# Modèle multivarié des K plus proches voisins"
   ]
  },
  {
   "cell_type": "markdown",
   "metadata": {},
   "source": [
    "## Récapitulatif"
   ]
  },
  {
   "cell_type": "markdown",
   "metadata": {},
   "source": [
    "+ Utiliser la méthode DataFrame.info() pour retourner le nombre de valeurs non nulles de chaque colonne.\n"
   ]
  },
  {
   "cell_type": "code",
   "execution_count": 10,
   "metadata": {},
   "outputs": [],
   "source": [
    "import pandas as pd\n",
    "import numpy as np\n",
    "np.random.seed(1)\n",
    "\n",
    "paris_listings = pd.read_csv('paris_airbnb.csv')\n",
    "paris_listings = paris_listings.loc[np.random.permutation(len(paris_listings))]\n",
    "stripped_commas = paris_listings['price'].str.replace(',', '')\n",
    "stripped_dollars = stripped_commas.str.replace('$', '')\n",
    "paris_listings['price'] = stripped_dollars.astype('float')"
   ]
  },
  {
   "cell_type": "code",
   "execution_count": 11,
   "metadata": {},
   "outputs": [
    {
     "name": "stdout",
     "output_type": "stream",
     "text": [
      "<class 'pandas.core.frame.DataFrame'>\n",
      "Int64Index: 8000 entries, 4740 to 5157\n",
      "Data columns (total 19 columns):\n",
      "host_response_rate      5000 non-null object\n",
      "host_acceptance_rate    0 non-null float64\n",
      "host_listings_count     7999 non-null float64\n",
      "latitude                8000 non-null float64\n",
      "longitude               8000 non-null float64\n",
      "city                    7997 non-null object\n",
      "zipcode                 7930 non-null object\n",
      "state                   7977 non-null object\n",
      "accommodates            8000 non-null int64\n",
      "room_type               8000 non-null object\n",
      "bedrooms                7976 non-null float64\n",
      "bathrooms               7942 non-null float64\n",
      "beds                    7986 non-null float64\n",
      "price                   8000 non-null float64\n",
      "cleaning_fee            6250 non-null object\n",
      "security_deposit        6320 non-null object\n",
      "minimum_nights          8000 non-null int64\n",
      "maximum_nights          8000 non-null int64\n",
      "number_of_reviews       8000 non-null int64\n",
      "dtypes: float64(8), int64(4), object(7)\n",
      "memory usage: 1.2+ MB\n",
      "None\n"
     ]
    }
   ],
   "source": [
    "print(paris_listings.info())"
   ]
  },
  {
   "cell_type": "markdown",
   "metadata": {},
   "source": [
    "## Supprimer des caractéristiques"
   ]
  },
  {
   "cell_type": "markdown",
   "metadata": {},
   "source": [
    "+ Supprimer le 9 colonnes que nous venons de citer du DataFrame paris_listings:\n",
    " - 3 contenant des valeurs non numériques (room_type, city et state)\n",
    " - 3 contenant des valeurs numériques mais non ordinales (longitude, latitude et zipcode)\n",
    " - 3 décrivant l'hôte plutôt que le logement (host_)\n",
    "+ Afficher la somme des valeurs manquantes du DataFrame résultant."
   ]
  },
  {
   "cell_type": "code",
   "execution_count": 12,
   "metadata": {},
   "outputs": [],
   "source": [
    "# Dataframe.drop() pour spécifier les colonnes à supprimer\n",
    "# isnull() et sum() pour obtenir la somme des valeurs manquantes"
   ]
  },
  {
   "cell_type": "code",
   "execution_count": 13,
   "metadata": {},
   "outputs": [
    {
     "name": "stdout",
     "output_type": "stream",
     "text": [
      "accommodates            0\n",
      "bedrooms               24\n",
      "bathrooms              58\n",
      "beds                   14\n",
      "price                   0\n",
      "cleaning_fee         1750\n",
      "security_deposit     1680\n",
      "minimum_nights          0\n",
      "maximum_nights          0\n",
      "number_of_reviews       0\n",
      "dtype: int64\n"
     ]
    }
   ],
   "source": [
    "drop_columns = ['room_type', 'city', 'state', 'longitude', 'latitude', 'zipcode', 'host_response_rate', 'host_acceptance_rate', 'host_listings_count']\n",
    "paris_listings = paris_listings.drop(drop_columns, axis=1)\n",
    "print(paris_listings.isnull().sum())"
   ]
  },
  {
   "cell_type": "markdown",
   "metadata": {},
   "source": [
    "## Gérer les valeurs manquantes"
   ]
  },
  {
   "cell_type": "markdown",
   "metadata": {},
   "source": [
    "+ Supprimer les colonnes cleaning_fee et security_deposit du DataFrame paris_listings.\n",
    "+ Ensuite, supprimer toutes les lignes contenant une valeur manquante dans les colonnes 'bedrooms', 'bathrooms' et 'beds' du dataframe paris_listings.\n",
    " - Vous pouvez accomplir cela en utilisant la méthode dropna() en fixant le paramètre axis à 0.\n",
    " - Etant donné que seules les colonnes bedrooms, bathrooms, et beds contiennent des valeurs manquantes, les lignes contenant ces valeurs manquantes dans ces colonnes seront supprimées.\n",
    "+ Afficher le nombre de valeurs nulles pour le nouveau DataFrame nouvellement mis à jour pour confirmer qu'il n'y a plus aucune valeur manquante.\n"
   ]
  },
  {
   "cell_type": "code",
   "execution_count": 16,
   "metadata": {},
   "outputs": [],
   "source": [
    "# paris_listings.dropna(axis=0) pour supprimer toutes les lignes contenant des valeurs\n",
    "# manquantes"
   ]
  },
  {
   "cell_type": "code",
   "execution_count": 15,
   "metadata": {},
   "outputs": [
    {
     "name": "stdout",
     "output_type": "stream",
     "text": [
      "accommodates         0\n",
      "bedrooms             0\n",
      "bathrooms            0\n",
      "beds                 0\n",
      "price                0\n",
      "minimum_nights       0\n",
      "maximum_nights       0\n",
      "number_of_reviews    0\n",
      "dtype: int64\n"
     ]
    }
   ],
   "source": [
    "paris_listings = paris_listings.drop(['cleaning_fee', 'security_deposit'], axis=1)\n",
    "paris_listings = paris_listings.dropna(axis=0)\n",
    "print(paris_listings.isnull().sum())"
   ]
  },
  {
   "cell_type": "markdown",
   "metadata": {},
   "source": [
    "## Normaliser les colonnes"
   ]
  },
  {
   "cell_type": "markdown",
   "metadata": {},
   "source": [
    "+ Normaliser toutes les colonnes restantes de paris_listings et assigner le nouveau DataFrame contenant juste les colonnes normalisées à la variable normalized_listings.\n",
    "+ Ajouter la colonne 'price' de paris_listings à normalized_listings.\n",
    "+ Afficher les 3 premières valeurs de normalized_listings.\n"
   ]
  },
  {
   "cell_type": "code",
   "execution_count": 17,
   "metadata": {},
   "outputs": [
    {
     "name": "stdout",
     "output_type": "stream",
     "text": [
      "      accommodates  bedrooms  bathrooms     beds  price  minimum_nights  \\\n",
      "4740      0.503868 -0.296884  -0.293537  0.20531   65.0       -0.184601   \n",
      "5606     -0.131849  0.892605   0.843973  0.20531   98.0       -0.101183   \n",
      "4824     -0.767566 -1.486372  -0.293537 -0.64526   65.0        0.037847   \n",
      "\n",
      "      maximum_nights  number_of_reviews  \n",
      "4740        1.062858          -0.564545  \n",
      "5606        1.061018          -0.636924  \n",
      "4824        1.062858          -0.651400  \n"
     ]
    }
   ],
   "source": [
    "normalized_listings = (paris_listings - paris_listings.mean())/(paris_listings.std())\n",
    "normalized_listings['price'] = paris_listings['price']\n",
    "print(normalized_listings.head(3))"
   ]
  },
  {
   "cell_type": "markdown",
   "metadata": {},
   "source": [
    "## Distance euclidienne pour le cas multivarié\n"
   ]
  },
  {
   "cell_type": "markdown",
   "metadata": {},
   "source": [
    "+ Calculer la distance Euclidienne en utilisant seulement les caractéristiques accommodates et bedrooms entre la première ligne et la 5e ligne de normalized_listings en utilisant la fonction distance.euclidean().\n",
    "+ Assigner la valeur de distance à la variable first_fifth_distance et afficher le résultat.\n"
   ]
  },
  {
   "cell_type": "code",
   "execution_count": 20,
   "metadata": {},
   "outputs": [],
   "source": [
    "# normalized_listings.iloc[0][['accommodates', 'bedrooms']]"
   ]
  },
  {
   "cell_type": "code",
   "execution_count": 21,
   "metadata": {},
   "outputs": [
    {
     "name": "stdout",
     "output_type": "stream",
     "text": [
      "0.6357172321498359\n"
     ]
    }
   ],
   "source": [
    "from scipy.spatial import distance\n",
    "first_listing = normalized_listings.iloc[0][['accommodates', 'bedrooms']]\n",
    "fifth_listing = normalized_listings.iloc[4][['accommodates', 'bedrooms']]\n",
    "first_fifth_distance = distance.euclidean(first_listing, fifth_listing)\n",
    "\n",
    "print(first_fifth_distance)"
   ]
  },
  {
   "cell_type": "markdown",
   "metadata": {},
   "source": [
    "## Adapter un modèle et faire des prédictions\n"
   ]
  },
  {
   "cell_type": "markdown",
   "metadata": {},
   "source": [
    "+ Créer une instance de la classe **KNeighborsRegressor** avec les paramètres suivants:\n",
    " - n_neighbors: 5\n",
    " - algorithm: brute\n",
    "+ Utiliser la méthode **fit** pour spécifier les données que nous voulons utiliser pour notre modèle des k plus proches voisins. Utiliser les paramètres suivants:\n",
    " - Les données d'entrainement, les colonnes de caractéristiques: seulement les colonnes 'accommodates' et 'bedrooms', dans cet ordre, depuis le DataFrame train_df.\n",
    " - La colonne cible: la colonne 'price' du DataFrame train_df.\n",
    "+ Appeler la méthode **predict** pour faire des prédictions dessus:\n",
    " - Les colonnes 'accommodates' et 'bedrooms' du DataFrame test_df\n",
    " - Assigner le tableau Numpy résultant des valeurs de prix prédits à la variable predictions.\n"
   ]
  },
  {
   "cell_type": "code",
   "execution_count": 23,
   "metadata": {},
   "outputs": [
    {
     "data": {
      "text/plain": [
       "array([ 72. ,  79.2,  79.2, ...,  72. , 148.4,  79.2])"
      ]
     },
     "execution_count": 23,
     "metadata": {},
     "output_type": "execute_result"
    }
   ],
   "source": [
    "from sklearn.neighbors import KNeighborsRegressor\n",
    "\n",
    "train_df = normalized_listings.iloc[0:6000]\n",
    "test_df = normalized_listings.iloc[6000:]\n",
    "train_columns = ['accommodates', 'bedrooms']\n",
    "\n",
    "# instancier le modèle de ML\n",
    "knn = KNeighborsRegressor(n_neighbors=5, algorithm='brute')\n",
    "\n",
    "# adapter le modèle aux données\n",
    "knn.fit(train_df[train_columns], train_df['price'])\n",
    "\n",
    "# utiliser le modèle pour faire des prédictions\n",
    "predictions = knn.predict(test_df[train_columns])\n",
    "\n",
    "predictions"
   ]
  },
  {
   "cell_type": "markdown",
   "metadata": {},
   "source": [
    "## Calculer l'erreur quadratique moyenne"
   ]
  },
  {
   "cell_type": "markdown",
   "metadata": {},
   "source": [
    "+ Utiliser la fonction mean_squared_error pour calculer la valeur d'erreur quadratique moyenne MSE pour les prédictions que nous avons faites.\n",
    "+ Assigner la valeur de MSE à la variable two_features_mse.\n",
    "+ Calculer la valeur de la racine carrée de l'erreur quadratique moyenne RMSE en prenant la racine carrée de la valeur MSE et assigner le résultat à la variable two_features_rmse.\n",
    "+ Afficher ces 2 résultats d'erreur.\n"
   ]
  },
  {
   "cell_type": "code",
   "execution_count": 24,
   "metadata": {},
   "outputs": [
    {
     "name": "stdout",
     "output_type": "stream",
     "text": [
      "6067.834762649973\n",
      "77.89630776005993\n"
     ]
    }
   ],
   "source": [
    "from sklearn.metrics import mean_squared_error\n",
    "\n",
    "two_features_mse = mean_squared_error(test_df['price'], predictions)\n",
    "two_features_rmse = two_features_mse**(1/2)\n",
    "\n",
    "print(two_features_mse)\n",
    "print(two_features_rmse)"
   ]
  },
  {
   "cell_type": "markdown",
   "metadata": {},
   "source": [
    "## Utiliser plus de caractéristiques"
   ]
  },
  {
   "cell_type": "markdown",
   "metadata": {},
   "source": [
    "+ Créer une nouvelle instance de la classe KNeighborsRegressor avec les paramètres suivants:\n",
    "+ Adapter le modèle pour qu'il utilise les colonnes suivantes de notre set d'entrainement (train_df):\n",
    " - accommodates\n",
    " - bedrooms\n",
    " - bathrooms\n",
    " - number_of_reviews\n",
    "+ Utiliser le modèle pour faire des prédictions sur le set de test (test_df) en utilisant les mêmes colonnes. Assigner le tableau Numpy des prédictions à la variable four_predictions.\n",
    "+ Utiliser la fonction mean_squared_error() pour calculer la valeur MSE pour ces prédictions en comparant les valeurs de four_predictions avec la colonne price du DataFrame test_df. Assigner la valeur MSE calculée à la variable four_mse.\n",
    "+ Calculer la valeur RMSE et assigner le résultat à la variable four_rmse.\n",
    "+ Afficher les résultats four_mse et four_rmse.\n"
   ]
  },
  {
   "cell_type": "code",
   "execution_count": 25,
   "metadata": {},
   "outputs": [
    {
     "name": "stdout",
     "output_type": "stream",
     "text": [
      "5488.169827856025\n",
      "74.08218293122864\n"
     ]
    }
   ],
   "source": [
    "features = ['accommodates', 'bedrooms', 'bathrooms', 'number_of_reviews']\n",
    "from sklearn.neighbors import KNeighborsRegressor\n",
    "knn = KNeighborsRegressor(n_neighbors=5, algorithm='brute')\n",
    "knn.fit(train_df[features], train_df['price'])\n",
    "four_predictions = knn.predict(test_df[features])\n",
    "four_mse = mean_squared_error(test_df['price'], four_predictions)\n",
    "four_rmse = four_mse**(1/2)\n",
    "\n",
    "print(four_mse)\n",
    "print(four_rmse)"
   ]
  },
  {
   "cell_type": "markdown",
   "metadata": {},
   "source": [
    "## Utiliser toutes les caractéristiques"
   ]
  },
  {
   "cell_type": "markdown",
   "metadata": {},
   "source": [
    "+ Utiliser toutes les colonnes, à l'exception de la colonne 'price', pour entrainer notre modèle des k plus proches voisins en utilisant les mêmes paramètres pour la classe KNeighborsRegressor que les précédentes vidéos.\n",
    "+ Utiliser le modèle pour faire les prédictions sur le set de test et assigner le tableau Numpy résultant des prédictions à la variable all_features_predictions.\n",
    "+ Calculer les valeurs MSE et RMSE et assigner les résultats aux variables all_features_mse et all_features_rmse.\n",
    "+ Afficher les scores d'erreurs.\n"
   ]
  },
  {
   "cell_type": "code",
   "execution_count": 26,
   "metadata": {},
   "outputs": [],
   "source": [
    "# df.columns.tolist() pour récupérer toutes les colonnes en une liste \n",
    "# remove() pour supprimer une colonne"
   ]
  },
  {
   "cell_type": "code",
   "execution_count": 28,
   "metadata": {},
   "outputs": [
    {
     "name": "stdout",
     "output_type": "stream",
     "text": [
      "7241.331684924361\n",
      "85.0960145066992\n"
     ]
    }
   ],
   "source": [
    "knn = KNeighborsRegressor(n_neighbors=5, algorithm='brute')\n",
    "\n",
    "features = train_df.columns.tolist()\n",
    "features.remove('price')\n",
    "\n",
    "knn.fit(train_df[features], train_df['price'])\n",
    "all_features_predictions = knn.predict(test_df[features])\n",
    "\n",
    "all_features_mse = mean_squared_error(test_df['price'], all_features_predictions)\n",
    "all_features_rmse = all_features_mse**(1/2)\n",
    "\n",
    "print(all_features_mse)\n",
    "print(all_features_rmse)"
   ]
  }
 ],
 "metadata": {
  "kernelspec": {
   "display_name": "Python 3",
   "language": "python",
   "name": "python3"
  },
  "language_info": {
   "codemirror_mode": {
    "name": "ipython",
    "version": 3
   },
   "file_extension": ".py",
   "mimetype": "text/x-python",
   "name": "python",
   "nbconvert_exporter": "python",
   "pygments_lexer": "ipython3",
   "version": "3.6.8"
  }
 },
 "nbformat": 4,
 "nbformat_minor": 2
}
