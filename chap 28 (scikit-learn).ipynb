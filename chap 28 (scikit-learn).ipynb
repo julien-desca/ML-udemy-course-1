{
 "cells": [
  {
   "metadata": {},
   "cell_type": "markdown",
   "source": [
    "# Scikit-learn\n",
    "\n",
    "- Instancer le modele de ML que l'on souhaite utiliser\n",
    "- Adapter le modèle au donnée d'entrainement\n",
    "- Utiliser le modèle pour faire des prédictions\n",
    "- Evaluation de la précision des prédictions"
   ],
   "id": "7f621c4ad4a12581"
  },
  {
   "metadata": {},
   "cell_type": "markdown",
   "source": "### classe KNeighborsRegressor",
   "id": "d272ba88c318ee57"
  },
  {
   "metadata": {},
   "cell_type": "markdown",
   "source": "",
   "id": "491ec02da949a879"
  },
  {
   "metadata": {
    "ExecuteTime": {
     "end_time": "2024-05-24T21:53:06.179231Z",
     "start_time": "2024-05-24T21:53:06.175554Z"
    }
   },
   "cell_type": "code",
   "source": "from sklearn.neighbors import KNeighborsRegressor",
   "id": "5e716fb29ba731b",
   "outputs": [],
   "execution_count": 30
  },
  {
   "metadata": {
    "ExecuteTime": {
     "end_time": "2024-05-24T21:53:06.214602Z",
     "start_time": "2024-05-24T21:53:06.191793Z"
    }
   },
   "cell_type": "code",
   "source": [
    "import pandas as pd\n",
    "import numpy as np\n",
    "\n",
    "np.random.seed(1)\n",
    "\n",
    "#lecture et shuffling du listing\n",
    "listing = pd.read_csv('paris_airbnb.csv')\n",
    "listing['price'] = listing['price'].apply(lambda x: x.replace('$', '').replace(',', '')).astype(float)\n",
    "listing = listing.loc[np.random.permutation(len(listing))]"
   ],
   "id": "e9a0b7d0299b0db9",
   "outputs": [],
   "execution_count": 31
  },
  {
   "metadata": {
    "ExecuteTime": {
     "end_time": "2024-05-24T21:53:06.224948Z",
     "start_time": "2024-05-24T21:53:06.215782Z"
    }
   },
   "cell_type": "code",
   "source": "listing.info()",
   "id": "f2e619735cdf0740",
   "outputs": [
    {
     "name": "stdout",
     "output_type": "stream",
     "text": [
      "<class 'pandas.core.frame.DataFrame'>\n",
      "Index: 8000 entries, 4740 to 5157\n",
      "Data columns (total 19 columns):\n",
      " #   Column                Non-Null Count  Dtype  \n",
      "---  ------                --------------  -----  \n",
      " 0   host_response_rate    5000 non-null   object \n",
      " 1   host_acceptance_rate  0 non-null      float64\n",
      " 2   host_listings_count   7999 non-null   float64\n",
      " 3   latitude              8000 non-null   float64\n",
      " 4   longitude             8000 non-null   float64\n",
      " 5   city                  7997 non-null   object \n",
      " 6   zipcode               7930 non-null   object \n",
      " 7   state                 7977 non-null   object \n",
      " 8   accommodates          8000 non-null   int64  \n",
      " 9   room_type             8000 non-null   object \n",
      " 10  bedrooms              7976 non-null   float64\n",
      " 11  bathrooms             7942 non-null   float64\n",
      " 12  beds                  7986 non-null   float64\n",
      " 13  price                 8000 non-null   float64\n",
      " 14  cleaning_fee          6250 non-null   object \n",
      " 15  security_deposit      6320 non-null   object \n",
      " 16  minimum_nights        8000 non-null   int64  \n",
      " 17  maximum_nights        8000 non-null   int64  \n",
      " 18  number_of_reviews     8000 non-null   int64  \n",
      "dtypes: float64(8), int64(4), object(7)\n",
      "memory usage: 1.2+ MB\n"
     ]
    }
   ],
   "execution_count": 32
  },
  {
   "metadata": {
    "ExecuteTime": {
     "end_time": "2024-05-24T21:53:06.232174Z",
     "start_time": "2024-05-24T21:53:06.226039Z"
    }
   },
   "cell_type": "code",
   "source": [
    "#nettoyage des données\n",
    "listing = listing.drop(['host_response_rate', 'host_acceptance_rate', 'host_listings_count', 'latitude', 'longitude', 'city', 'zipcode', 'state', 'room_type'], axis=1)"
   ],
   "id": "c790c15daa90d44c",
   "outputs": [],
   "execution_count": 33
  },
  {
   "metadata": {
    "ExecuteTime": {
     "end_time": "2024-05-24T21:53:06.238101Z",
     "start_time": "2024-05-24T21:53:06.233544Z"
    }
   },
   "cell_type": "code",
   "source": [
    "\n",
    "listing.isnull().sum()"
   ],
   "id": "3bba11fb2aaa4b6f",
   "outputs": [
    {
     "data": {
      "text/plain": [
       "accommodates            0\n",
       "bedrooms               24\n",
       "bathrooms              58\n",
       "beds                   14\n",
       "price                   0\n",
       "cleaning_fee         1750\n",
       "security_deposit     1680\n",
       "minimum_nights          0\n",
       "maximum_nights          0\n",
       "number_of_reviews       0\n",
       "dtype: int64"
      ]
     },
     "execution_count": 34,
     "metadata": {},
     "output_type": "execute_result"
    }
   ],
   "execution_count": 34
  },
  {
   "metadata": {
    "ExecuteTime": {
     "end_time": "2024-05-24T21:53:06.244450Z",
     "start_time": "2024-05-24T21:53:06.238899Z"
    }
   },
   "cell_type": "code",
   "source": [
    "listing = listing.drop(['security_deposit', 'cleaning_fee'], axis=1)\n",
    "listing = listing.dropna(axis=0)\n",
    "listing.isnull().sum()"
   ],
   "id": "6bbfbb7fa8bb2474",
   "outputs": [
    {
     "data": {
      "text/plain": [
       "accommodates         0\n",
       "bedrooms             0\n",
       "bathrooms            0\n",
       "beds                 0\n",
       "price                0\n",
       "minimum_nights       0\n",
       "maximum_nights       0\n",
       "number_of_reviews    0\n",
       "dtype: int64"
      ]
     },
     "execution_count": 35,
     "metadata": {},
     "output_type": "execute_result"
    }
   ],
   "execution_count": 35
  },
  {
   "metadata": {
    "ExecuteTime": {
     "end_time": "2024-05-24T21:57:13.993135Z",
     "start_time": "2024-05-24T21:57:13.982220Z"
    }
   },
   "cell_type": "code",
   "source": [
    "# normalization\n",
    "normalized_listing = (listing - listing.mean()) / (listing.std())\n",
    "normalized_listing['price'] = listing['price']\n",
    "normalized_listing.head()"
   ],
   "id": "7e4701351233a1b",
   "outputs": [
    {
     "data": {
      "text/plain": [
       "      accommodates  bedrooms  bathrooms     beds  price  minimum_nights  \\\n",
       "4740      0.503868 -0.296884  -0.293537  0.20531   65.0       -0.184601   \n",
       "5606     -0.131849  0.892605   0.843973  0.20531   98.0       -0.101183   \n",
       "4824     -0.767566 -1.486372  -0.293537 -0.64526   65.0        0.037847   \n",
       "4205     -0.767566 -0.296884  -0.293537 -0.64526   45.0       -0.101183   \n",
       "3228     -0.131849 -0.296884  -0.293537  0.20531   65.0       -0.101183   \n",
       "\n",
       "      maximum_nights  number_of_reviews  \n",
       "4740        1.062858          -0.564545  \n",
       "5606        1.061018          -0.636924  \n",
       "4824        1.062858          -0.651400  \n",
       "4205        1.062858           0.550105  \n",
       "3228       -0.335685          -0.579021  "
      ],
      "text/html": [
       "<div>\n",
       "<style scoped>\n",
       "    .dataframe tbody tr th:only-of-type {\n",
       "        vertical-align: middle;\n",
       "    }\n",
       "\n",
       "    .dataframe tbody tr th {\n",
       "        vertical-align: top;\n",
       "    }\n",
       "\n",
       "    .dataframe thead th {\n",
       "        text-align: right;\n",
       "    }\n",
       "</style>\n",
       "<table border=\"1\" class=\"dataframe\">\n",
       "  <thead>\n",
       "    <tr style=\"text-align: right;\">\n",
       "      <th></th>\n",
       "      <th>accommodates</th>\n",
       "      <th>bedrooms</th>\n",
       "      <th>bathrooms</th>\n",
       "      <th>beds</th>\n",
       "      <th>price</th>\n",
       "      <th>minimum_nights</th>\n",
       "      <th>maximum_nights</th>\n",
       "      <th>number_of_reviews</th>\n",
       "    </tr>\n",
       "  </thead>\n",
       "  <tbody>\n",
       "    <tr>\n",
       "      <th>4740</th>\n",
       "      <td>0.503868</td>\n",
       "      <td>-0.296884</td>\n",
       "      <td>-0.293537</td>\n",
       "      <td>0.20531</td>\n",
       "      <td>65.0</td>\n",
       "      <td>-0.184601</td>\n",
       "      <td>1.062858</td>\n",
       "      <td>-0.564545</td>\n",
       "    </tr>\n",
       "    <tr>\n",
       "      <th>5606</th>\n",
       "      <td>-0.131849</td>\n",
       "      <td>0.892605</td>\n",
       "      <td>0.843973</td>\n",
       "      <td>0.20531</td>\n",
       "      <td>98.0</td>\n",
       "      <td>-0.101183</td>\n",
       "      <td>1.061018</td>\n",
       "      <td>-0.636924</td>\n",
       "    </tr>\n",
       "    <tr>\n",
       "      <th>4824</th>\n",
       "      <td>-0.767566</td>\n",
       "      <td>-1.486372</td>\n",
       "      <td>-0.293537</td>\n",
       "      <td>-0.64526</td>\n",
       "      <td>65.0</td>\n",
       "      <td>0.037847</td>\n",
       "      <td>1.062858</td>\n",
       "      <td>-0.651400</td>\n",
       "    </tr>\n",
       "    <tr>\n",
       "      <th>4205</th>\n",
       "      <td>-0.767566</td>\n",
       "      <td>-0.296884</td>\n",
       "      <td>-0.293537</td>\n",
       "      <td>-0.64526</td>\n",
       "      <td>45.0</td>\n",
       "      <td>-0.101183</td>\n",
       "      <td>1.062858</td>\n",
       "      <td>0.550105</td>\n",
       "    </tr>\n",
       "    <tr>\n",
       "      <th>3228</th>\n",
       "      <td>-0.131849</td>\n",
       "      <td>-0.296884</td>\n",
       "      <td>-0.293537</td>\n",
       "      <td>0.20531</td>\n",
       "      <td>65.0</td>\n",
       "      <td>-0.101183</td>\n",
       "      <td>-0.335685</td>\n",
       "      <td>-0.579021</td>\n",
       "    </tr>\n",
       "  </tbody>\n",
       "</table>\n",
       "</div>"
      ]
     },
     "execution_count": 44,
     "metadata": {},
     "output_type": "execute_result"
    }
   ],
   "execution_count": 44
  },
  {
   "metadata": {
    "ExecuteTime": {
     "end_time": "2024-05-24T21:57:15.111779Z",
     "start_time": "2024-05-24T21:57:15.109025Z"
    }
   },
   "cell_type": "code",
   "source": [
    "train_set = normalized_listing.iloc[0:6000]\n",
    "test_set = normalized_listing.iloc[6000:]"
   ],
   "id": "f016616c39fcdffd",
   "outputs": [],
   "execution_count": 45
  },
  {
   "metadata": {},
   "cell_type": "code",
   "outputs": [],
   "execution_count": null,
   "source": [
    "\n",
    "\n",
    "knn = KNeighborsRegressor(algorithm='brute', n_neighbors=5)"
   ],
   "id": "6527622198e6b027"
  },
  {
   "metadata": {},
   "cell_type": "code",
   "outputs": [
    {
     "data": {
      "text/plain": [
       "array([ 60. ,  81.8,  81.8, ...,  60. , 121.2,  81.8])"
      ]
     },
     "execution_count": 46,
     "metadata": {},
     "output_type": "execute_result"
    }
   ],
   "execution_count": 46,
   "source": [
    "knn.fit(train_set[['accommodates', 'bedrooms']], train_set['price'])\n",
    "predict = knn.predict(test_set[['accommodates', 'bedrooms']])\n",
    "predict"
   ],
   "id": "4f057fa50fbcb09c"
  },
  {
   "metadata": {
    "ExecuteTime": {
     "end_time": "2024-05-24T22:05:53.150260Z",
     "start_time": "2024-05-24T22:05:53.142701Z"
    }
   },
   "cell_type": "code",
   "source": "from sklearn.metrics import mean_squared_error, mean_absolute_error",
   "id": "7307376f279d405",
   "outputs": [],
   "execution_count": 50
  },
  {
   "metadata": {
    "ExecuteTime": {
     "end_time": "2024-05-24T22:05:53.590080Z",
     "start_time": "2024-05-24T22:05:53.585398Z"
    }
   },
   "cell_type": "code",
   "source": [
    "mse = mean_squared_error(test_set['price'], predict)\n",
    "rmse = np.sqrt(mse)\n",
    "\n",
    "mae = mean_absolute_error(test_set['price'], predict)\n",
    "print(mae)\n",
    "print(mse)\n",
    "print(rmse)"
   ],
   "id": "4e926e6204dd53d2",
   "outputs": [
    {
     "name": "stdout",
     "output_type": "stream",
     "text": [
      "43.18205529473135\n",
      "6236.238664580073\n",
      "78.96985921590638\n"
     ]
    }
   ],
   "execution_count": 51
  },
  {
   "metadata": {
    "ExecuteTime": {
     "end_time": "2024-05-24T22:07:58.277933Z",
     "start_time": "2024-05-24T22:07:58.086756Z"
    }
   },
   "cell_type": "code",
   "source": [
    "knn.fit(train_set.drop(['price'], axis=1), train_set['price'])\n",
    "prediction = knn.predict(test_set.drop(['price'], axis=1))\n",
    "\n",
    "mae = mean_absolute_error(test_set['price'], prediction)\n",
    "mse = mean_squared_error(test_set['price'], prediction)\n",
    "rmse = np.sqrt(mse)\n",
    "\n",
    "print(mae)\n",
    "print(mse)\n",
    "print(rmse)"
   ],
   "id": "8cf0609e9b524053",
   "outputs": [
    {
     "name": "stdout",
     "output_type": "stream",
     "text": [
      "43.533124673969745\n",
      "6323.108335941575\n",
      "79.51797492354528\n"
     ]
    }
   ],
   "execution_count": 53
  },
  {
   "metadata": {
    "ExecuteTime": {
     "end_time": "2024-05-24T22:10:57.741441Z",
     "start_time": "2024-05-24T22:10:57.507927Z"
    }
   },
   "cell_type": "code",
   "source": [
    "feature = ['accommodates', 'bedrooms', 'bathrooms']\n",
    "\n",
    "knn = KNeighborsRegressor(algorithm='brute', n_neighbors=5)\n",
    "knn.fit(train_set[feature], train_set['price'])\n",
    "prediction = knn.predict(test_set[feature])\n",
    "\n",
    "mae = mean_absolute_error(test_set['price'], prediction)\n",
    "mse = mean_squared_error(test_set['price'], prediction)\n",
    "rmse = np.sqrt(mse)\n",
    "\n",
    "print(mae)\n",
    "print(mse)\n",
    "print(rmse)"
   ],
   "id": "6ad1798ea0de7bd0",
   "outputs": [
    {
     "name": "stdout",
     "output_type": "stream",
     "text": [
      "40.49880020865937\n",
      "5385.400667709963\n",
      "73.38528917780431\n"
     ]
    }
   ],
   "execution_count": 56
  },
  {
   "metadata": {
    "ExecuteTime": {
     "end_time": "2024-05-24T22:11:04.519738Z",
     "start_time": "2024-05-24T22:11:04.308721Z"
    }
   },
   "cell_type": "code",
   "source": [
    "feature = ['accommodates', 'bedrooms', 'bathrooms']\n",
    "\n",
    "knn = KNeighborsRegressor(algorithm='brute', n_neighbors=50)\n",
    "knn.fit(train_set[feature], train_set['price'])\n",
    "prediction = knn.predict(test_set[feature])\n",
    "\n",
    "mae = mean_absolute_error(test_set['price'], prediction)\n",
    "mse = mean_squared_error(test_set['price'], prediction)\n",
    "rmse = np.sqrt(mse)\n",
    "\n",
    "print(mae)\n",
    "print(mse)\n",
    "print(rmse)"
   ],
   "id": "3feeab2cc39b1502",
   "outputs": [
    {
     "name": "stdout",
     "output_type": "stream",
     "text": [
      "38.92004173187272\n",
      "4857.563805112155\n",
      "69.69622518553035\n"
     ]
    }
   ],
   "execution_count": 57
  },
  {
   "metadata": {
    "ExecuteTime": {
     "end_time": "2024-05-24T22:11:26.052781Z",
     "start_time": "2024-05-24T22:11:25.800206Z"
    }
   },
   "cell_type": "code",
   "source": [
    "feature = ['accommodates', 'bedrooms', 'bathrooms']\n",
    "\n",
    "knn = KNeighborsRegressor(algorithm='brute', n_neighbors=50)\n",
    "knn.fit(train_set[feature], train_set['price'])\n",
    "prediction = knn.predict(test_set[feature])\n",
    "\n",
    "mae = mean_absolute_error(test_set['price'], prediction)\n",
    "mse = mean_squared_error(test_set['price'], prediction)\n",
    "rmse = np.sqrt(mse)\n",
    "\n",
    "print(mae)\n",
    "print(mse)\n",
    "print(rmse)"
   ],
   "id": "7a61e62f17d654ad",
   "outputs": [
    {
     "name": "stdout",
     "output_type": "stream",
     "text": [
      "38.92004173187272\n",
      "4857.563805112155\n",
      "69.69622518553035\n"
     ]
    }
   ],
   "execution_count": 60
  },
  {
   "metadata": {
    "ExecuteTime": {
     "end_time": "2024-05-24T22:12:26.779965Z",
     "start_time": "2024-05-24T22:12:26.452804Z"
    }
   },
   "cell_type": "code",
   "source": "",
   "id": "bfa1377efa650505",
   "outputs": [
    {
     "name": "stdout",
     "output_type": "stream",
     "text": [
      "39.383526343244654\n",
      "4972.517035159103\n",
      "70.51607643054953\n"
     ]
    }
   ],
   "execution_count": 65
  },
  {
   "metadata": {},
   "cell_type": "code",
   "outputs": [],
   "execution_count": null,
   "source": "",
   "id": "a47e710cd8945cba"
  }
 ],
 "metadata": {
  "kernelspec": {
   "display_name": "Python 3",
   "language": "python",
   "name": "python3"
  },
  "language_info": {
   "codemirror_mode": {
    "name": "ipython",
    "version": 2
   },
   "file_extension": ".py",
   "mimetype": "text/x-python",
   "name": "python",
   "nbconvert_exporter": "python",
   "pygments_lexer": "ipython2",
   "version": "2.7.6"
  }
 },
 "nbformat": 4,
 "nbformat_minor": 5
}
