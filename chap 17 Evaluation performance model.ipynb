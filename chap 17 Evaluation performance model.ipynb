{
 "cells": [
  {
   "metadata": {},
   "cell_type": "markdown",
   "source": [
    "# Evaluer la performance du modele\n",
    "\n",
    "## Tester la qualité des prédictions\n",
    "\n",
    "- Séparer le dataframe en 2 : \n",
    "    - train_df contenant 6000 lignes (donnée pour l'entrainement du modèle)\n",
    "    - test_df 2000 lignes (données pour tester la performance du modèle)\n",
    "\n",
    "\n"
   ],
   "id": "68c485f9ea82f187"
  },
  {
   "metadata": {
    "ExecuteTime": {
     "end_time": "2024-05-23T21:52:28.370938Z",
     "start_time": "2024-05-23T21:52:28.348024Z"
    }
   },
   "cell_type": "code",
   "source": [
    "import pandas as pd\n",
    "import numpy as np\n",
    "np.random.seed(1)\n",
    "\n",
    "paris_listing = pd.read_csv('paris_airbnb.csv')\n",
    "paris_listing = paris_listing.loc[np.random.permutation(len(paris_listing))]\n",
    "paris_listing['price'] = paris_listing['price'].apply(lambda x: x.replace('$', '').replace(',', '')).astype(float)"
   ],
   "id": "6a0a8c64d4a65a93",
   "outputs": [],
   "execution_count": 51
  },
  {
   "metadata": {
    "ExecuteTime": {
     "end_time": "2024-05-23T21:52:28.374873Z",
     "start_time": "2024-05-23T21:52:28.372293Z"
    }
   },
   "cell_type": "code",
   "source": [
    "train_df = paris_listing[:6000]\n",
    "test_df = paris_listing[6000:]"
   ],
   "id": "5a607a19a0aa63d3",
   "outputs": [],
   "execution_count": 52
  },
  {
   "metadata": {
    "ExecuteTime": {
     "end_time": "2024-05-23T21:52:28.379121Z",
     "start_time": "2024-05-23T21:52:28.375645Z"
    }
   },
   "cell_type": "code",
   "source": [
    "def predict(accommodates):\n",
    "    df = train_df.copy()\n",
    "    df['distance'] = df['accommodates'].apply(lambda x: np.abs(x - accommodates))\n",
    "    df = df.sort_values('distance')\n",
    "    return df.head(5)['price'].mean()"
   ],
   "id": "6bbc030c383573ab",
   "outputs": [],
   "execution_count": 53
  },
  {
   "metadata": {
    "ExecuteTime": {
     "end_time": "2024-05-23T21:52:50.038740Z",
     "start_time": "2024-05-23T21:52:28.380240Z"
    }
   },
   "cell_type": "code",
   "source": "test_df['predicted_price'] = test_df['accommodates'].apply(lambda x: predict(x))",
   "id": "1b0506b666131b8b",
   "outputs": [
    {
     "name": "stderr",
     "output_type": "stream",
     "text": [
      "/tmp/ipykernel_13975/4200836548.py:1: SettingWithCopyWarning: \n",
      "A value is trying to be set on a copy of a slice from a DataFrame.\n",
      "Try using .loc[row_indexer,col_indexer] = value instead\n",
      "\n",
      "See the caveats in the documentation: https://pandas.pydata.org/pandas-docs/stable/user_guide/indexing.html#returning-a-view-versus-a-copy\n",
      "  test_df['predicted_price'] = test_df['accommodates'].apply(lambda x: predict(x))\n"
     ]
    }
   ],
   "execution_count": 54
  },
  {
   "metadata": {
    "ExecuteTime": {
     "end_time": "2024-05-23T21:52:50.046200Z",
     "start_time": "2024-05-23T21:52:50.039691Z"
    }
   },
   "cell_type": "code",
   "source": "test_df.head()[['accommodates', 'predicted_price']]",
   "id": "8cbf39e928b0ef76",
   "outputs": [
    {
     "data": {
      "text/plain": [
       "      accommodates  predicted_price\n",
       "4465             2             90.4\n",
       "3154             5            176.8\n",
       "1969             3             96.2\n",
       "2713             4            173.0\n",
       "5578             2             90.4"
      ],
      "text/html": [
       "<div>\n",
       "<style scoped>\n",
       "    .dataframe tbody tr th:only-of-type {\n",
       "        vertical-align: middle;\n",
       "    }\n",
       "\n",
       "    .dataframe tbody tr th {\n",
       "        vertical-align: top;\n",
       "    }\n",
       "\n",
       "    .dataframe thead th {\n",
       "        text-align: right;\n",
       "    }\n",
       "</style>\n",
       "<table border=\"1\" class=\"dataframe\">\n",
       "  <thead>\n",
       "    <tr style=\"text-align: right;\">\n",
       "      <th></th>\n",
       "      <th>accommodates</th>\n",
       "      <th>predicted_price</th>\n",
       "    </tr>\n",
       "  </thead>\n",
       "  <tbody>\n",
       "    <tr>\n",
       "      <th>4465</th>\n",
       "      <td>2</td>\n",
       "      <td>90.4</td>\n",
       "    </tr>\n",
       "    <tr>\n",
       "      <th>3154</th>\n",
       "      <td>5</td>\n",
       "      <td>176.8</td>\n",
       "    </tr>\n",
       "    <tr>\n",
       "      <th>1969</th>\n",
       "      <td>3</td>\n",
       "      <td>96.2</td>\n",
       "    </tr>\n",
       "    <tr>\n",
       "      <th>2713</th>\n",
       "      <td>4</td>\n",
       "      <td>173.0</td>\n",
       "    </tr>\n",
       "    <tr>\n",
       "      <th>5578</th>\n",
       "      <td>2</td>\n",
       "      <td>90.4</td>\n",
       "    </tr>\n",
       "  </tbody>\n",
       "</table>\n",
       "</div>"
      ]
     },
     "execution_count": 55,
     "metadata": {},
     "output_type": "execute_result"
    }
   ],
   "execution_count": 55
  },
  {
   "metadata": {},
   "cell_type": "markdown",
   "source": "Calculer l'erreur Absolu Moyenne entre predicted_price et price.",
   "id": "4079e30f542a23b0"
  },
  {
   "metadata": {
    "ExecuteTime": {
     "end_time": "2024-05-23T22:57:13.044644Z",
     "start_time": "2024-05-23T22:57:13.029493Z"
    }
   },
   "cell_type": "code",
   "source": "np.abs(np.square(test_df['price'] - test_df['predicted_price'])).mean()",
   "id": "3ee1f3b0c9ec69ae",
   "outputs": [
    {
     "data": {
      "text/plain": [
       "6724.726040000001"
      ]
     },
     "execution_count": 57,
     "metadata": {},
     "output_type": "execute_result"
    }
   ],
   "execution_count": 57
  },
  {
   "metadata": {
    "ExecuteTime": {
     "end_time": "2024-05-23T22:58:36.631231Z",
     "start_time": "2024-05-23T22:58:36.625200Z"
    }
   },
   "cell_type": "code",
   "source": [
    "def predict(bedrooms):\n",
    "    df = train_df.copy()\n",
    "    df['distance'] = df['bedrooms'].apply(lambda x: np.abs(x - bedrooms))\n",
    "    df = df.sort_values('distance')\n",
    "    return df.head(5)['price'].mean()"
   ],
   "id": "f21197a447ed8b65",
   "outputs": [],
   "execution_count": 58
  },
  {
   "metadata": {
    "ExecuteTime": {
     "end_time": "2024-05-23T23:00:04.630594Z",
     "start_time": "2024-05-23T22:59:53.516911Z"
    }
   },
   "cell_type": "code",
   "source": "test_df['predicted_price'] = test_df['bedrooms'].apply(lambda x: predict(x))",
   "id": "72ed9d704771009f",
   "outputs": [
    {
     "name": "stderr",
     "output_type": "stream",
     "text": [
      "/tmp/ipykernel_13975/1192404238.py:1: SettingWithCopyWarning: \n",
      "A value is trying to be set on a copy of a slice from a DataFrame.\n",
      "Try using .loc[row_indexer,col_indexer] = value instead\n",
      "\n",
      "See the caveats in the documentation: https://pandas.pydata.org/pandas-docs/stable/user_guide/indexing.html#returning-a-view-versus-a-copy\n",
      "  test_df['predicted_price'] = test_df['bedrooms'].apply(lambda x: predict(x))\n"
     ]
    }
   ],
   "execution_count": 61
  },
  {
   "metadata": {
    "ExecuteTime": {
     "end_time": "2024-05-23T23:00:04.635497Z",
     "start_time": "2024-05-23T23:00:04.631803Z"
    }
   },
   "cell_type": "code",
   "source": "np.abs(np.square(test_df['price'] - test_df['predicted_price'])).mean()",
   "id": "ed238f7333398ed8",
   "outputs": [
    {
     "data": {
      "text/plain": [
       "6281.181979999999"
      ]
     },
     "execution_count": 62,
     "metadata": {},
     "output_type": "execute_result"
    }
   ],
   "execution_count": 62
  },
  {
   "metadata": {},
   "cell_type": "code",
   "outputs": [],
   "execution_count": null,
   "source": "",
   "id": "b61dc39ea1f1881d"
  }
 ],
 "metadata": {
  "kernelspec": {
   "display_name": "Python 3",
   "language": "python",
   "name": "python3"
  },
  "language_info": {
   "codemirror_mode": {
    "name": "ipython",
    "version": 2
   },
   "file_extension": ".py",
   "mimetype": "text/x-python",
   "name": "python",
   "nbconvert_exporter": "python",
   "pygments_lexer": "ipython2",
   "version": "2.7.6"
  }
 },
 "nbformat": 4,
 "nbformat_minor": 5
}
