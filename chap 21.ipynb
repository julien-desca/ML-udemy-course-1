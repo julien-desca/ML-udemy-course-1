{
 "cells": [
  {
   "cell_type": "code",
   "id": "initial_id",
   "metadata": {
    "collapsed": true,
    "ExecuteTime": {
     "end_time": "2024-05-23T23:15:58.056318Z",
     "start_time": "2024-05-23T23:15:57.865063Z"
    }
   },
   "source": [
    "import pandas as pd\n",
    "import numpy as np\n",
    "np.random.seed(1)\n",
    "\n",
    "paris_listing = pd.read_csv('paris_airbnb.csv')\n",
    "paris_listing = paris_listing.loc[np.random.permutation(len(paris_listing))]\n",
    "paris_listing['price'] = paris_listing['price'].apply(lambda x: x.replace('$', '').replace(',', '')).astype(float)"
   ],
   "outputs": [],
   "execution_count": 1
  },
  {
   "metadata": {
    "ExecuteTime": {
     "end_time": "2024-05-23T23:16:03.233718Z",
     "start_time": "2024-05-23T23:16:03.224360Z"
    }
   },
   "cell_type": "code",
   "source": [
    "train_df = paris_listing[:6000]\n",
    "test_df = paris_listing[6000:]"
   ],
   "id": "2f22858fe66fa85e",
   "outputs": [],
   "execution_count": 2
  },
  {
   "metadata": {
    "ExecuteTime": {
     "end_time": "2024-05-23T23:16:46.225678Z",
     "start_time": "2024-05-23T23:16:46.214234Z"
    }
   },
   "cell_type": "code",
   "source": [
    "def predict(feature_value: int, feature: str ):\n",
    "    df = train_df.copy()\n",
    "    df['distance'] = df[feature].apply(lambda x: np.abs(x - feature_value))\n",
    "    df = df.sort_values('distance')\n",
    "    return df.head(5)['price'].mean()"
   ],
   "id": "61d04276b9ece939",
   "outputs": [],
   "execution_count": 3
  },
  {
   "metadata": {
    "ExecuteTime": {
     "end_time": "2024-05-23T23:51:07.122045Z",
     "start_time": "2024-05-23T23:50:46.506434Z"
    }
   },
   "cell_type": "code",
   "source": [
    "test_df['predicted_price'] = test_df['accommodates'].apply(lambda x: predict(x, feature='accommodates'))\n",
    "test_df['error_se'] = (test_df['predicted_price'] - test_df['price']) ** 2\n",
    "mse = np.abs(test_df['error_se']).mean()\n",
    "print('rmse: ' + str(np.sqrt(mse)))"
   ],
   "id": "7e8f65f49b0f4173",
   "outputs": [
    {
     "name": "stdout",
     "output_type": "stream",
     "text": [
      "rmse: 82.00442695367124\n"
     ]
    },
    {
     "name": "stderr",
     "output_type": "stream",
     "text": [
      "/tmp/ipykernel_28042/2005082510.py:1: SettingWithCopyWarning: \n",
      "A value is trying to be set on a copy of a slice from a DataFrame.\n",
      "Try using .loc[row_indexer,col_indexer] = value instead\n",
      "\n",
      "See the caveats in the documentation: https://pandas.pydata.org/pandas-docs/stable/user_guide/indexing.html#returning-a-view-versus-a-copy\n",
      "  test_df['predicted_price'] = test_df['accommodates'].apply(lambda x: predict(x, feature='accommodates'))\n",
      "/tmp/ipykernel_28042/2005082510.py:2: SettingWithCopyWarning: \n",
      "A value is trying to be set on a copy of a slice from a DataFrame.\n",
      "Try using .loc[row_indexer,col_indexer] = value instead\n",
      "\n",
      "See the caveats in the documentation: https://pandas.pydata.org/pandas-docs/stable/user_guide/indexing.html#returning-a-view-versus-a-copy\n",
      "  test_df['error_se'] = (test_df['predicted_price'] - test_df['price']) ** 2\n"
     ]
    }
   ],
   "execution_count": 11
  },
  {
   "metadata": {
    "ExecuteTime": {
     "end_time": "2024-05-23T23:51:17.818644Z",
     "start_time": "2024-05-23T23:51:07.123532Z"
    }
   },
   "cell_type": "code",
   "source": [
    "test_df['predicted_price'] = test_df['bedrooms'].apply(lambda x: predict(x, feature='bedrooms'))\n",
    "test_df['error_se'] = (test_df['predicted_price'] - test_df['price']) ** 2\n",
    "mse = np.abs(test_df['error_se']).mean()\n",
    "print('rmse: ' + str(np.sqrt(mse)))"
   ],
   "id": "4d585ceb8f163c02",
   "outputs": [
    {
     "name": "stdout",
     "output_type": "stream",
     "text": [
      "rmse: 79.25390829479642\n"
     ]
    },
    {
     "name": "stderr",
     "output_type": "stream",
     "text": [
      "/tmp/ipykernel_28042/3509545378.py:1: SettingWithCopyWarning: \n",
      "A value is trying to be set on a copy of a slice from a DataFrame.\n",
      "Try using .loc[row_indexer,col_indexer] = value instead\n",
      "\n",
      "See the caveats in the documentation: https://pandas.pydata.org/pandas-docs/stable/user_guide/indexing.html#returning-a-view-versus-a-copy\n",
      "  test_df['predicted_price'] = test_df['bedrooms'].apply(lambda x: predict(x, feature='bedrooms'))\n",
      "/tmp/ipykernel_28042/3509545378.py:2: SettingWithCopyWarning: \n",
      "A value is trying to be set on a copy of a slice from a DataFrame.\n",
      "Try using .loc[row_indexer,col_indexer] = value instead\n",
      "\n",
      "See the caveats in the documentation: https://pandas.pydata.org/pandas-docs/stable/user_guide/indexing.html#returning-a-view-versus-a-copy\n",
      "  test_df['error_se'] = (test_df['predicted_price'] - test_df['price']) ** 2\n"
     ]
    }
   ],
   "execution_count": 12
  },
  {
   "metadata": {},
   "cell_type": "code",
   "outputs": [],
   "execution_count": null,
   "source": "",
   "id": "9ba2385801042282"
  }
 ],
 "metadata": {
  "kernelspec": {
   "display_name": "Python 3",
   "language": "python",
   "name": "python3"
  },
  "language_info": {
   "codemirror_mode": {
    "name": "ipython",
    "version": 2
   },
   "file_extension": ".py",
   "mimetype": "text/x-python",
   "name": "python",
   "nbconvert_exporter": "python",
   "pygments_lexer": "ipython2",
   "version": "2.7.6"
  }
 },
 "nbformat": 4,
 "nbformat_minor": 5
}
