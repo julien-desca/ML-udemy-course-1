{
 "cells": [
  {
   "cell_type": "code",
   "id": "ca56f88a-f4b8-4c92-b8a6-c6a8c1a7dd05",
   "metadata": {
    "ExecuteTime": {
     "end_time": "2024-05-24T21:26:55.456262Z",
     "start_time": "2024-05-24T21:26:55.453631Z"
    }
   },
   "source": [
    "import pandas as pd\n",
    "import numpy as np\n",
    "np.random.seed(1)"
   ],
   "outputs": [],
   "execution_count": 32
  },
  {
   "cell_type": "code",
   "id": "26f7f8f2-c730-4b04-954a-b19dc752e796",
   "metadata": {
    "ExecuteTime": {
     "end_time": "2024-05-24T21:26:55.520124Z",
     "start_time": "2024-05-24T21:26:55.499768Z"
    }
   },
   "source": [
    "paris_listing = pd.read_csv('paris_airbnb.csv')\n",
    "paris_listing['price'] = paris_listing['price'].apply(lambda x : x.replace('$','').replace(',','')).astype(float)\n",
    "paris_listing = paris_listing.iloc[np.random.permutation(len(paris_listing))]"
   ],
   "outputs": [],
   "execution_count": 33
  },
  {
   "cell_type": "code",
   "id": "0f6657ca-c6c8-4870-beb0-13267c178b20",
   "metadata": {
    "ExecuteTime": {
     "end_time": "2024-05-24T21:26:55.528643Z",
     "start_time": "2024-05-24T21:26:55.521206Z"
    }
   },
   "source": [
    "paris_listing.info()"
   ],
   "outputs": [
    {
     "name": "stdout",
     "output_type": "stream",
     "text": [
      "<class 'pandas.core.frame.DataFrame'>\n",
      "Index: 8000 entries, 4740 to 5157\n",
      "Data columns (total 19 columns):\n",
      " #   Column                Non-Null Count  Dtype  \n",
      "---  ------                --------------  -----  \n",
      " 0   host_response_rate    5000 non-null   object \n",
      " 1   host_acceptance_rate  0 non-null      float64\n",
      " 2   host_listings_count   7999 non-null   float64\n",
      " 3   latitude              8000 non-null   float64\n",
      " 4   longitude             8000 non-null   float64\n",
      " 5   city                  7997 non-null   object \n",
      " 6   zipcode               7930 non-null   object \n",
      " 7   state                 7977 non-null   object \n",
      " 8   accommodates          8000 non-null   int64  \n",
      " 9   room_type             8000 non-null   object \n",
      " 10  bedrooms              7976 non-null   float64\n",
      " 11  bathrooms             7942 non-null   float64\n",
      " 12  beds                  7986 non-null   float64\n",
      " 13  price                 8000 non-null   float64\n",
      " 14  cleaning_fee          6250 non-null   object \n",
      " 15  security_deposit      6320 non-null   object \n",
      " 16  minimum_nights        8000 non-null   int64  \n",
      " 17  maximum_nights        8000 non-null   int64  \n",
      " 18  number_of_reviews     8000 non-null   int64  \n",
      "dtypes: float64(8), int64(4), object(7)\n",
      "memory usage: 1.2+ MB\n"
     ]
    }
   ],
   "execution_count": 34
  },
  {
   "cell_type": "code",
   "id": "03cbbae9-f0fd-4e9c-9e2f-2ae95d0f880e",
   "metadata": {
    "scrolled": true,
    "ExecuteTime": {
     "end_time": "2024-05-24T21:26:55.539831Z",
     "start_time": "2024-05-24T21:26:55.529503Z"
    }
   },
   "source": [
    "paris_listing.head()"
   ],
   "outputs": [
    {
     "data": {
      "text/plain": [
       "     host_response_rate  host_acceptance_rate  host_listings_count  latitude  \\\n",
       "4740                NaN                   NaN                  1.0  48.88285   \n",
       "5606                NaN                   NaN                  1.0  48.86006   \n",
       "4824               100%                   NaN                  3.0  48.88794   \n",
       "4205                60%                   NaN                  1.0  48.88868   \n",
       "3228                90%                   NaN                  1.0  48.88686   \n",
       "\n",
       "      longitude   city zipcode          state  accommodates        room_type  \\\n",
       "4740    2.33852  Paris   75018  Île-de-France             4  Entire home/apt   \n",
       "5606    2.34768  Paris   75001  Île-de-France             3  Entire home/apt   \n",
       "4824    2.34532  Paris   75018  Île-de-France             2  Entire home/apt   \n",
       "4205    2.34111  Paris   75018  Île-de-France             2     Private room   \n",
       "3228    2.33670  Paris   75018  Île-de-France             3  Entire home/apt   \n",
       "\n",
       "      bedrooms  bathrooms  beds  price cleaning_fee security_deposit  \\\n",
       "4740       1.0        1.0   2.0   65.0       $30.00          $200.00   \n",
       "5606       2.0        1.5   2.0   98.0          NaN              NaN   \n",
       "4824       0.0        1.0   1.0   65.0       $30.00        $1,000.00   \n",
       "4205       1.0        1.0   1.0   45.0       $30.00          $200.00   \n",
       "3228       1.0        1.0   2.0   65.0          NaN          $200.00   \n",
       "\n",
       "      minimum_nights  maximum_nights  number_of_reviews  \n",
       "4740               2            1125                  6  \n",
       "5606               5            1124                  1  \n",
       "4824              10            1125                  0  \n",
       "4205               5            1125                 83  \n",
       "3228               5             365                  5  "
      ],
      "text/html": [
       "<div>\n",
       "<style scoped>\n",
       "    .dataframe tbody tr th:only-of-type {\n",
       "        vertical-align: middle;\n",
       "    }\n",
       "\n",
       "    .dataframe tbody tr th {\n",
       "        vertical-align: top;\n",
       "    }\n",
       "\n",
       "    .dataframe thead th {\n",
       "        text-align: right;\n",
       "    }\n",
       "</style>\n",
       "<table border=\"1\" class=\"dataframe\">\n",
       "  <thead>\n",
       "    <tr style=\"text-align: right;\">\n",
       "      <th></th>\n",
       "      <th>host_response_rate</th>\n",
       "      <th>host_acceptance_rate</th>\n",
       "      <th>host_listings_count</th>\n",
       "      <th>latitude</th>\n",
       "      <th>longitude</th>\n",
       "      <th>city</th>\n",
       "      <th>zipcode</th>\n",
       "      <th>state</th>\n",
       "      <th>accommodates</th>\n",
       "      <th>room_type</th>\n",
       "      <th>bedrooms</th>\n",
       "      <th>bathrooms</th>\n",
       "      <th>beds</th>\n",
       "      <th>price</th>\n",
       "      <th>cleaning_fee</th>\n",
       "      <th>security_deposit</th>\n",
       "      <th>minimum_nights</th>\n",
       "      <th>maximum_nights</th>\n",
       "      <th>number_of_reviews</th>\n",
       "    </tr>\n",
       "  </thead>\n",
       "  <tbody>\n",
       "    <tr>\n",
       "      <th>4740</th>\n",
       "      <td>NaN</td>\n",
       "      <td>NaN</td>\n",
       "      <td>1.0</td>\n",
       "      <td>48.88285</td>\n",
       "      <td>2.33852</td>\n",
       "      <td>Paris</td>\n",
       "      <td>75018</td>\n",
       "      <td>Île-de-France</td>\n",
       "      <td>4</td>\n",
       "      <td>Entire home/apt</td>\n",
       "      <td>1.0</td>\n",
       "      <td>1.0</td>\n",
       "      <td>2.0</td>\n",
       "      <td>65.0</td>\n",
       "      <td>$30.00</td>\n",
       "      <td>$200.00</td>\n",
       "      <td>2</td>\n",
       "      <td>1125</td>\n",
       "      <td>6</td>\n",
       "    </tr>\n",
       "    <tr>\n",
       "      <th>5606</th>\n",
       "      <td>NaN</td>\n",
       "      <td>NaN</td>\n",
       "      <td>1.0</td>\n",
       "      <td>48.86006</td>\n",
       "      <td>2.34768</td>\n",
       "      <td>Paris</td>\n",
       "      <td>75001</td>\n",
       "      <td>Île-de-France</td>\n",
       "      <td>3</td>\n",
       "      <td>Entire home/apt</td>\n",
       "      <td>2.0</td>\n",
       "      <td>1.5</td>\n",
       "      <td>2.0</td>\n",
       "      <td>98.0</td>\n",
       "      <td>NaN</td>\n",
       "      <td>NaN</td>\n",
       "      <td>5</td>\n",
       "      <td>1124</td>\n",
       "      <td>1</td>\n",
       "    </tr>\n",
       "    <tr>\n",
       "      <th>4824</th>\n",
       "      <td>100%</td>\n",
       "      <td>NaN</td>\n",
       "      <td>3.0</td>\n",
       "      <td>48.88794</td>\n",
       "      <td>2.34532</td>\n",
       "      <td>Paris</td>\n",
       "      <td>75018</td>\n",
       "      <td>Île-de-France</td>\n",
       "      <td>2</td>\n",
       "      <td>Entire home/apt</td>\n",
       "      <td>0.0</td>\n",
       "      <td>1.0</td>\n",
       "      <td>1.0</td>\n",
       "      <td>65.0</td>\n",
       "      <td>$30.00</td>\n",
       "      <td>$1,000.00</td>\n",
       "      <td>10</td>\n",
       "      <td>1125</td>\n",
       "      <td>0</td>\n",
       "    </tr>\n",
       "    <tr>\n",
       "      <th>4205</th>\n",
       "      <td>60%</td>\n",
       "      <td>NaN</td>\n",
       "      <td>1.0</td>\n",
       "      <td>48.88868</td>\n",
       "      <td>2.34111</td>\n",
       "      <td>Paris</td>\n",
       "      <td>75018</td>\n",
       "      <td>Île-de-France</td>\n",
       "      <td>2</td>\n",
       "      <td>Private room</td>\n",
       "      <td>1.0</td>\n",
       "      <td>1.0</td>\n",
       "      <td>1.0</td>\n",
       "      <td>45.0</td>\n",
       "      <td>$30.00</td>\n",
       "      <td>$200.00</td>\n",
       "      <td>5</td>\n",
       "      <td>1125</td>\n",
       "      <td>83</td>\n",
       "    </tr>\n",
       "    <tr>\n",
       "      <th>3228</th>\n",
       "      <td>90%</td>\n",
       "      <td>NaN</td>\n",
       "      <td>1.0</td>\n",
       "      <td>48.88686</td>\n",
       "      <td>2.33670</td>\n",
       "      <td>Paris</td>\n",
       "      <td>75018</td>\n",
       "      <td>Île-de-France</td>\n",
       "      <td>3</td>\n",
       "      <td>Entire home/apt</td>\n",
       "      <td>1.0</td>\n",
       "      <td>1.0</td>\n",
       "      <td>2.0</td>\n",
       "      <td>65.0</td>\n",
       "      <td>NaN</td>\n",
       "      <td>$200.00</td>\n",
       "      <td>5</td>\n",
       "      <td>365</td>\n",
       "      <td>5</td>\n",
       "    </tr>\n",
       "  </tbody>\n",
       "</table>\n",
       "</div>"
      ]
     },
     "execution_count": 35,
     "metadata": {},
     "output_type": "execute_result"
    }
   ],
   "execution_count": 35
  },
  {
   "cell_type": "markdown",
   "id": "43de0168-0492-470d-a3c5-62d4b996a5bc",
   "metadata": {},
   "source": [
    "# Suppression des donnée non pertinente\n",
    "## données non numérique:\n",
    "    - room_type\n",
    "    - city\n",
    "    - zipcode\n",
    "    - state\n",
    "## valeurs numérique non ordinales\n",
    "    - longitute\n",
    "    - lattitude\n",
    "\n",
    "## valeurs ne décrivants pas le logement\n",
    "    - host_response_rate\n",
    "    - host_acceptance_rate\n",
    "    - host_listings_count"
   ]
  },
  {
   "cell_type": "code",
   "id": "fd26c799-08d8-4370-8ae6-822be63de80d",
   "metadata": {
    "ExecuteTime": {
     "end_time": "2024-05-24T21:26:55.545107Z",
     "start_time": "2024-05-24T21:26:55.541018Z"
    }
   },
   "source": [
    "paris_listing = paris_listing.drop(['room_type', 'city', 'zipcode', 'state', 'longitude', 'latitude', 'host_response_rate', 'host_acceptance_rate', 'host_listings_count'], axis=1)\n"
   ],
   "outputs": [],
   "execution_count": 36
  },
  {
   "cell_type": "markdown",
   "id": "eaa7c7c4-69a5-4c31-9adf-d1635a000231",
   "metadata": {},
   "source": [
    "# Gerer les valeurs manquantes\n",
    "## colonne ou peu de valeurs sont manquantes\n",
    "les colonnes 'bderooms', 'bathrooms' et 'beds' contienne peu de valeur manquante. On peut sans problème supprimer les lignes ou ces valeurs sont manquantes, sans perdre beaucoup de datas\n",
    "## colonne ou beaucoup de valeurs manquent\n",
    "les colonnes cleaning_fee et security_deposit contiennent beaucoup de valeurs manquantes. Supprimer ces lignes représente une grosse perde de données. Nous allons supprimer ces colonnes"
   ]
  },
  {
   "cell_type": "code",
   "id": "adb9c649-2dea-4081-8528-3c842d89fa16",
   "metadata": {
    "ExecuteTime": {
     "end_time": "2024-05-24T21:26:55.552108Z",
     "start_time": "2024-05-24T21:26:55.545896Z"
    }
   },
   "source": [
    "paris_listing.isnull().sum()"
   ],
   "outputs": [
    {
     "data": {
      "text/plain": [
       "accommodates            0\n",
       "bedrooms               24\n",
       "bathrooms              58\n",
       "beds                   14\n",
       "price                   0\n",
       "cleaning_fee         1750\n",
       "security_deposit     1680\n",
       "minimum_nights          0\n",
       "maximum_nights          0\n",
       "number_of_reviews       0\n",
       "dtype: int64"
      ]
     },
     "execution_count": 37,
     "metadata": {},
     "output_type": "execute_result"
    }
   ],
   "execution_count": 37
  },
  {
   "cell_type": "code",
   "id": "a3ae893a-8d84-4686-9132-4c3db1955283",
   "metadata": {
    "ExecuteTime": {
     "end_time": "2024-05-24T21:26:55.557803Z",
     "start_time": "2024-05-24T21:26:55.552876Z"
    }
   },
   "source": [
    "paris_listing = paris_listing.drop(['cleaning_fee', 'security_deposit'], axis=1)\n",
    "paris_listing = paris_listing.dropna(axis=0)\n",
    "paris_listing.isnull().sum()"
   ],
   "outputs": [
    {
     "data": {
      "text/plain": [
       "accommodates         0\n",
       "bedrooms             0\n",
       "bathrooms            0\n",
       "beds                 0\n",
       "price                0\n",
       "minimum_nights       0\n",
       "maximum_nights       0\n",
       "number_of_reviews    0\n",
       "dtype: int64"
      ]
     },
     "execution_count": 38,
     "metadata": {},
     "output_type": "execute_result"
    }
   ],
   "execution_count": 38
  },
  {
   "cell_type": "markdown",
   "id": "a2af0146-5cc8-460b-8eca-879501532b45",
   "metadata": {},
   "source": [
    "# Normalisation des colonnes\n",
    "Certaines colonnes du dataset contiennent des chiffres et des écarts très grand (number of review par ex.). C'est colonne peuvent prendre un poids démesurer lors de la prediction. Il est nécéssaire de normaliser les colonnes afin de garantir que chaque colonne ai un poids comparable\n",
    "\n",
    "Distribution normal standard : formule : \n",
    "$\\ x=\\frac{x-\\mu}{\\sigma}$\n",
    "\n",
    "ou $\\ x$ est la valeur a normaliser, $\\mu$ la moyenne de la colonne normalisé et $\\sigma$ la déviation standard (ou écart type)"
   ]
  },
  {
   "cell_type": "code",
   "id": "ae205bc1-0ee2-4e95-b24d-da275828efd2",
   "metadata": {
    "ExecuteTime": {
     "end_time": "2024-05-24T21:26:55.562724Z",
     "start_time": "2024-05-24T21:26:55.558650Z"
    }
   },
   "source": [
    "normalized_listing = (paris_listing - paris_listing.mean()) / paris_listing.std()"
   ],
   "outputs": [],
   "execution_count": 39
  },
  {
   "cell_type": "code",
   "id": "f5c8456b-35ab-499c-a007-d1c3aab443ef",
   "metadata": {
    "ExecuteTime": {
     "end_time": "2024-05-24T21:26:55.566119Z",
     "start_time": "2024-05-24T21:26:55.563690Z"
    }
   },
   "source": [
    "normalized_listing['price'] = paris_listing['price']"
   ],
   "outputs": [],
   "execution_count": 40
  },
  {
   "cell_type": "code",
   "id": "e11b627e-a372-4b19-b85c-15cb7956fc33",
   "metadata": {
    "ExecuteTime": {
     "end_time": "2024-05-24T21:26:55.576063Z",
     "start_time": "2024-05-24T21:26:55.566817Z"
    }
   },
   "source": [
    "normalized_listing.head(3)"
   ],
   "outputs": [
    {
     "data": {
      "text/plain": [
       "      accommodates  bedrooms  bathrooms     beds  price  minimum_nights  \\\n",
       "4740      0.503868 -0.296884  -0.293537  0.20531   65.0       -0.184601   \n",
       "5606     -0.131849  0.892605   0.843973  0.20531   98.0       -0.101183   \n",
       "4824     -0.767566 -1.486372  -0.293537 -0.64526   65.0        0.037847   \n",
       "\n",
       "      maximum_nights  number_of_reviews  \n",
       "4740        1.062858          -0.564545  \n",
       "5606        1.061018          -0.636924  \n",
       "4824        1.062858          -0.651400  "
      ],
      "text/html": [
       "<div>\n",
       "<style scoped>\n",
       "    .dataframe tbody tr th:only-of-type {\n",
       "        vertical-align: middle;\n",
       "    }\n",
       "\n",
       "    .dataframe tbody tr th {\n",
       "        vertical-align: top;\n",
       "    }\n",
       "\n",
       "    .dataframe thead th {\n",
       "        text-align: right;\n",
       "    }\n",
       "</style>\n",
       "<table border=\"1\" class=\"dataframe\">\n",
       "  <thead>\n",
       "    <tr style=\"text-align: right;\">\n",
       "      <th></th>\n",
       "      <th>accommodates</th>\n",
       "      <th>bedrooms</th>\n",
       "      <th>bathrooms</th>\n",
       "      <th>beds</th>\n",
       "      <th>price</th>\n",
       "      <th>minimum_nights</th>\n",
       "      <th>maximum_nights</th>\n",
       "      <th>number_of_reviews</th>\n",
       "    </tr>\n",
       "  </thead>\n",
       "  <tbody>\n",
       "    <tr>\n",
       "      <th>4740</th>\n",
       "      <td>0.503868</td>\n",
       "      <td>-0.296884</td>\n",
       "      <td>-0.293537</td>\n",
       "      <td>0.20531</td>\n",
       "      <td>65.0</td>\n",
       "      <td>-0.184601</td>\n",
       "      <td>1.062858</td>\n",
       "      <td>-0.564545</td>\n",
       "    </tr>\n",
       "    <tr>\n",
       "      <th>5606</th>\n",
       "      <td>-0.131849</td>\n",
       "      <td>0.892605</td>\n",
       "      <td>0.843973</td>\n",
       "      <td>0.20531</td>\n",
       "      <td>98.0</td>\n",
       "      <td>-0.101183</td>\n",
       "      <td>1.061018</td>\n",
       "      <td>-0.636924</td>\n",
       "    </tr>\n",
       "    <tr>\n",
       "      <th>4824</th>\n",
       "      <td>-0.767566</td>\n",
       "      <td>-1.486372</td>\n",
       "      <td>-0.293537</td>\n",
       "      <td>-0.64526</td>\n",
       "      <td>65.0</td>\n",
       "      <td>0.037847</td>\n",
       "      <td>1.062858</td>\n",
       "      <td>-0.651400</td>\n",
       "    </tr>\n",
       "  </tbody>\n",
       "</table>\n",
       "</div>"
      ]
     },
     "execution_count": 41,
     "metadata": {},
     "output_type": "execute_result"
    }
   ],
   "execution_count": 41
  },
  {
   "metadata": {},
   "cell_type": "markdown",
   "source": [
    "# Distance Euclidienne pour cas multivarié\n",
    "\n",
    "$\\ d=\\sqrt{(q_1 - p_1)^2 + (q_2 - p_2)^2 + ... + (q_n - p_n)^2}$\n",
    "\n",
    "- Calculer la distance Euclidienne en utilisant accommodates & bedrooms entre la premiere et la 5è ligne"
   ],
   "id": "7be98a176eb51ab8"
  },
  {
   "metadata": {
    "ExecuteTime": {
     "end_time": "2024-05-24T21:27:12.070045Z",
     "start_time": "2024-05-24T21:27:12.065672Z"
    }
   },
   "cell_type": "code",
   "source": [
    "from scipy.spatial import distance\n",
    "\n",
    "list_1 = normalized_listing.iloc[0][['accommodates', 'bedrooms']]\n",
    "list_2 = normalized_listing.iloc[4][['accommodates', 'bedrooms']]\n",
    "distance = distance.euclidean(list_1, list_2)\n",
    "print(distance)"
   ],
   "id": "d8097296a217a96b",
   "outputs": [
    {
     "name": "stdout",
     "output_type": "stream",
     "text": [
      "0.6357172321498354\n"
     ]
    }
   ],
   "execution_count": 43
  },
  {
   "metadata": {
    "ExecuteTime": {
     "end_time": "2024-05-24T21:26:55.583903Z",
     "start_time": "2024-05-24T21:26:55.582343Z"
    }
   },
   "cell_type": "code",
   "source": "",
   "id": "b94b58349cbe308",
   "outputs": [],
   "execution_count": 42
  }
 ],
 "metadata": {
  "kernelspec": {
   "display_name": "Python 3 (ipykernel)",
   "language": "python",
   "name": "python3"
  },
  "language_info": {
   "codemirror_mode": {
    "name": "ipython",
    "version": 3
   },
   "file_extension": ".py",
   "mimetype": "text/x-python",
   "name": "python",
   "nbconvert_exporter": "python",
   "pygments_lexer": "ipython3",
   "version": "3.11.9"
  }
 },
 "nbformat": 4,
 "nbformat_minor": 5
}
